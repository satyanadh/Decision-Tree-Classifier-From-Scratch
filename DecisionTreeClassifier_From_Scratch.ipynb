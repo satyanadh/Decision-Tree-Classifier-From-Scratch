{
  "nbformat": 4,
  "nbformat_minor": 0,
  "metadata": {
    "colab": {
      "provenance": []
    },
    "kernelspec": {
      "name": "python3",
      "display_name": "Python 3"
    },
    "language_info": {
      "name": "python"
    }
  },
  "cells": [
    {
      "cell_type": "code",
      "source": [
        "import numpy as np\n",
        "import pandas as pd\n",
        "\n",
        "# Define the entropy function\n",
        "def entropy(target_col):\n",
        "    elements, counts = np.unique(target_col, return_counts=True)\n",
        "    entropy_value = np.sum([(-counts[i]/np.sum(counts)) * np.log2(counts[i]/np.sum(counts))\n",
        "                            for i in range(len(elements))])\n",
        "    return entropy_value"
      ],
      "metadata": {
        "id": "KD8Ff3uwZHJs"
      },
      "execution_count": null,
      "outputs": []
    },
    {
      "cell_type": "code",
      "source": [
        "# Define the Gini index function\n",
        "def gini_index(target_col):\n",
        "    elements, counts = np.unique(target_col, return_counts=True)\n",
        "    gini_value = 1 - np.sum([(counts[i]/np.sum(counts))**2 for i in range(len(elements))])\n",
        "    return gini_value"
      ],
      "metadata": {
        "id": "Agpcjg6tZOBh"
      },
      "execution_count": null,
      "outputs": []
    },
    {
      "cell_type": "code",
      "source": [
        "# Function to calculate the best attribute to split on using entropy or Gini index\n",
        "def best_attribute_to_split(data, attributes, target_attribute_name, criterion):\n",
        "    if criterion == \"entropy\":\n",
        "        best_info_gain = -1\n",
        "        best_attribute = None\n",
        "        current_entropy = entropy(data[target_attribute_name])\n",
        "\n",
        "        for attribute in attributes:\n",
        "            attribute_entropy = 0\n",
        "            attribute_values = data[attribute].unique()\n",
        "            for value in attribute_values:\n",
        "                sub_data = data[data[attribute] == value]\n",
        "                sub_entropy = entropy(sub_data[target_attribute_name])\n",
        "                attribute_entropy += (len(sub_data) / len(data)) * sub_entropy\n",
        "\n",
        "            info_gain = current_entropy - attribute_entropy\n",
        "            if info_gain > best_info_gain:\n",
        "                best_info_gain = info_gain\n",
        "                best_attribute = attribute\n",
        "\n",
        "        return best_attribute\n",
        "\n",
        "    elif criterion == \"gini\":\n",
        "        best_gini_index = float(\"inf\")\n",
        "        best_attribute = None\n",
        "        current_gini_index = gini_index(data[target_attribute_name])\n",
        "\n",
        "        for attribute in attributes:\n",
        "            attribute_gini = 0\n",
        "            attribute_values = data[attribute].unique()\n",
        "            for value in attribute_values:\n",
        "                sub_data = data[data[attribute] == value]\n",
        "                sub_gini = gini_index(sub_data[target_attribute_name])\n",
        "                attribute_gini += (len(sub_data) / len(data)) * sub_gini\n",
        "\n",
        "            gini_gain = current_gini_index - attribute_gini\n",
        "            if gini_gain < best_gini_index:\n",
        "                best_gini_index = gini_gain\n",
        "                best_attribute = attribute\n",
        "\n",
        "        return best_attribute"
      ],
      "metadata": {
        "id": "aVDHMhjqZVMU"
      },
      "execution_count": null,
      "outputs": []
    },
    {
      "cell_type": "code",
      "source": [
        "# Function to build the decision tree\n",
        "def build_decision_tree(data, original_data, features, target_attribute_name, parent_node_class=None, criterion=\"entropy\"):\n",
        "    # If all target_values have the same value, return this value\n",
        "    if len(np.unique(data[target_attribute_name])) <= 1:\n",
        "        return np.unique(data[target_attribute_name])[0]\n",
        "\n",
        "    # If the dataset is empty, return the mode target feature value in the original dataset\n",
        "    elif len(data) == 0:\n",
        "        return np.unique(original_data[target_attribute_name])[np.argmax(np.unique(original_data[target_attribute_name], return_counts=True)[1])]\n",
        "\n",
        "    # If the feature space is empty, return the mode target feature value of the direct parent node\n",
        "    elif len(features) == 0:\n",
        "        return parent_node_class\n",
        "\n",
        "    # If none of the above conditions holds true, grow the tree!\n",
        "    else:\n",
        "        # Set the default value for this node --> The mode target feature value of the current node\n",
        "        parent_node_class = np.unique(data[target_attribute_name])[np.argmax(np.unique(data[target_attribute_name], return_counts=True)[1])]\n",
        "\n",
        "        # Select the feature which best splits the dataset\n",
        "        best_feature = best_attribute_to_split(data, features, target_attribute_name, criterion)\n",
        "\n",
        "        # Create the tree structure. The root gets the name of the best feature\n",
        "        tree = {best_feature: {}}\n",
        "\n",
        "        # Remove the feature with the best info_gain\n",
        "        features = [i for i in features if i != best_feature]\n",
        "\n",
        "        # Grow a branch under the root node for each possible value of the root node feature\n",
        "        for value in np.unique(data[best_feature]):\n",
        "            value = value\n",
        "            # Split the dataset along the value of the feature with the largest information gain and therewith create sub_datasets\n",
        "            sub_data = data.where(data[best_feature] == value).dropna()\n",
        "\n",
        "            # Call the build_decision_tree function for each of those sub_datasets with the new parameters\n",
        "            subtree = build_decision_tree(sub_data, original_data, features, target_attribute_name, parent_node_class, criterion)\n",
        "\n",
        "            # Add the sub tree, grown from the sub_dataset to the tree under the root node\n",
        "            tree[best_feature][value] = subtree\n",
        "\n",
        "        return tree"
      ],
      "metadata": {
        "id": "2ws30y1ZZk80"
      },
      "execution_count": null,
      "outputs": []
    },
    {
      "cell_type": "code",
      "execution_count": null,
      "metadata": {
        "id": "-sIRoH6tYpGd"
      },
      "outputs": [],
      "source": [
        "# Manually split the data\n",
        "def manual_train_test_split(df, test_size, random_state):\n",
        "    np.random.seed(random_state)\n",
        "    permutation = np.random.permutation(df.index)\n",
        "    length = len(df)\n",
        "    test_length = int(length * test_size)\n",
        "\n",
        "    test_indices = permutation[:test_length]\n",
        "    train_indices = permutation[test_length:]\n",
        "\n",
        "    return df.loc[train_indices], df.loc[test_indices]"
      ]
    },
    {
      "cell_type": "code",
      "source": [
        "# Load the dataset\n",
        "file_path = '/content/lending-club-data3a.csv'\n",
        "data = pd.read_csv(file_path)\n",
        "\n",
        "# Split the data into training and testing set\n",
        "train_data, test_data = manual_train_test_split(data, test_size=0.20, random_state=123)\n",
        "\n",
        "# Features for the decision tree (excluding the target feature)\n",
        "features = train_data.columns.tolist()\n",
        "features.remove('y')\n",
        "\n",
        "# Build the decision tree using entropy\n",
        "tree_entropy = build_decision_tree(train_data, train_data, features, 'y', criterion=\"entropy\")\n",
        "\n",
        "# Output the decision tree built based on entropy\n",
        "tree_entropy"
      ],
      "metadata": {
        "colab": {
          "base_uri": "https://localhost:8080/"
        },
        "id": "v0tTfUcFbB7k",
        "outputId": "857aa837-32d4-4c74-ef8b-cf1052208f42"
      },
      "execution_count": null,
      "outputs": [
        {
          "output_type": "execute_result",
          "data": {
            "text/plain": [
              "{'income': {'high': 'risky',\n",
              "  'low': 'safe',\n",
              "  'middle': {'credit': {'excellent': {'term': {'3yrs': 'safe',\n",
              "      '5yrs': 'safe'}},\n",
              "    'fair': {'term': {'3yrs': 'safe', '5yrs': 'safe'}},\n",
              "    'poor': {'term': {'3yrs': 'risky', '5yrs': 'risky'}}}}}}"
            ]
          },
          "metadata": {},
          "execution_count": 11
        }
      ]
    },
    {
      "cell_type": "markdown",
      "source": [
        "2"
      ],
      "metadata": {
        "id": "NvQrLj8YiCea"
      }
    },
    {
      "cell_type": "code",
      "source": [
        "# Function to predict a single data point using the decision tree\n",
        "def predict(tree, data_point):\n",
        "    for nodes in tree.keys():\n",
        "        value = data_point[nodes]\n",
        "        tree = tree[nodes][value]\n",
        "        prediction = 0\n",
        "\n",
        "        if type(tree) is dict:\n",
        "            prediction = predict(tree, data_point)\n",
        "        else:\n",
        "            prediction = tree\n",
        "            break;\n",
        "\n",
        "    return prediction\n",
        "\n",
        "# Function to predict the entire dataset\n",
        "def predict_dataset(data, tree):\n",
        "    predictions = data.apply(lambda x: predict(tree, x), axis=1)\n",
        "    return predictions\n",
        "\n",
        "# Generate predictions for the train and test datasets\n",
        "train_predictions = predict_dataset(train_data, tree_entropy)\n",
        "test_predictions = predict_dataset(test_data, tree_entropy)\n"
      ],
      "metadata": {
        "id": "BHMoj_T6iDlS"
      },
      "execution_count": null,
      "outputs": []
    },
    {
      "cell_type": "code",
      "source": [
        "# Function to calculate the confusion matrix\n",
        "def confusion_matrix(true_labels, predictions):\n",
        "    tp = sum((true_labels == \"safe\") & (predictions == \"safe\"))\n",
        "    tn = sum((true_labels == \"risky\") & (predictions == \"risky\"))\n",
        "    fp = sum((true_labels == \"risky\") & (predictions == \"safe\"))\n",
        "    fn = sum((true_labels == \"safe\") & (predictions == \"risky\"))\n",
        "    return tp, tn, fp, fn\n",
        "\n",
        "# Function to calculate accuracy\n",
        "def accuracy(tp, tn, fp, fn):\n",
        "    return (tp + tn) / (tp + tn + fp + fn)\n",
        "\n",
        "# Function to calculate precision\n",
        "def precision(tp, fp):\n",
        "    return tp / (tp + fp) if (tp + fp) != 0 else 0\n",
        "\n",
        "# Function to calculate recall\n",
        "def recall(tp, fn):\n",
        "    return tp / (tp + fn) if (tp + fn) != 0 else 0\n",
        "\n",
        "# Function to calculate F1 score\n",
        "def f1_score(precision, recall):\n",
        "    return 2 * (precision * recall) / (precision + recall) if (precision + recall) != 0 else 0\n",
        "\n",
        "# Calculate metrics for the training set\n",
        "train_tp, train_tn, train_fp, train_fn = confusion_matrix(train_data['y'], train_predictions)\n",
        "train_accuracy = accuracy(train_tp, train_tn, train_fp, train_fn)\n",
        "train_precision = precision(train_tp, train_fp)\n",
        "train_recall = recall(train_tp, train_fn)\n",
        "train_f1 = f1_score(train_precision, train_recall)\n",
        "\n",
        "# Calculate metrics for the testing set\n",
        "test_tp, test_tn, test_fp, test_fn = confusion_matrix(test_data['y'], test_predictions)\n",
        "test_accuracy = accuracy(test_tp, test_tn, test_fp, test_fn)\n",
        "test_precision = precision(test_tp, test_fp)\n",
        "test_recall = recall(test_tp, test_fn)\n",
        "test_f1 = f1_score(test_precision, test_recall)\n",
        "\n",
        "# Output the performance metrics\n",
        "train_metrics = (train_accuracy, train_precision, train_recall, train_f1)\n",
        "test_metrics = (test_accuracy, test_precision, test_recall, test_f1)\n",
        "train_metrics, test_metrics"
      ],
      "metadata": {
        "colab": {
          "base_uri": "https://localhost:8080/"
        },
        "id": "01Sy3apfiOhm",
        "outputId": "2b1cc70c-441d-4937-ac14-ee6d3f7c8652"
      },
      "execution_count": null,
      "outputs": [
        {
          "output_type": "execute_result",
          "data": {
            "text/plain": [
              "((0.8190625, 0.8226507547617166, 0.9411392405063291, 0.8779150676843925),\n",
              " (0.81625, 0.8189026324135744, 0.9402767662053897, 0.8754026106119682))"
            ]
          },
          "metadata": {},
          "execution_count": 13
        }
      ]
    },
    {
      "cell_type": "code",
      "source": [
        "import matplotlib.pyplot as plt\n",
        "\n",
        "# Function to calculate TPR and FPR\n",
        "def tpr_fpr_rates(y_true, y_scores, thresholds):\n",
        "    tpr = []\n",
        "    fpr = []\n",
        "    for threshold in thresholds:\n",
        "        # Convert scores to binary predictions\n",
        "        y_pred = (y_scores >= threshold).astype(int)\n",
        "        tp = sum((y_true == 1) & (y_pred == 1))\n",
        "        tn = sum((y_true == 0) & (y_pred == 0))\n",
        "        fp = sum((y_true == 0) & (y_pred == 1))\n",
        "        fn = sum((y_true == 1) & (y_pred == 0))\n",
        "\n",
        "        tpr.append(tp / (tp + fn))\n",
        "        fpr.append(fp / (fp + tn))\n",
        "    return tpr, fpr\n",
        "\n",
        "# Assuming we have a y_scores which is a numpy array of continuous scores\n",
        "# For demonstration, we're using random scores here\n",
        "np.random.seed(123)\n",
        "y_scores = np.random.rand(len(test_data))\n",
        "thresholds = np.linspace(0, 1, 100)\n",
        "\n",
        "# Calculate TPR and FPR at different thresholds\n",
        "y_true_binary = (test_data['y'] == 'safe').astype(int)  # Convert labels to binary\n",
        "tpr, fpr = tpr_fpr_rates(y_true_binary, y_scores, thresholds)\n",
        "\n",
        "# Plot ROC curve\n",
        "plt.figure()\n",
        "plt.plot(fpr, tpr, label='ROC curve')\n",
        "plt.plot([0, 1], [0, 1], color='navy', linestyle='--')\n",
        "plt.xlabel('False Positive Rate')\n",
        "plt.ylabel('True Positive Rate')\n",
        "plt.title('Receiver Operating Characteristic (ROC) Curve')\n",
        "plt.legend(loc=\"lower right\")\n",
        "plt.show()\n",
        "\n",
        "# Function to calculate AUC\n",
        "def auc(fpr, tpr):\n",
        "    return np.trapz(tpr, fpr)\n",
        "\n",
        "# Calculate AUC\n",
        "auc_value = auc(fpr, tpr)\n",
        "print(\"AUC:\", auc_value)"
      ],
      "metadata": {
        "colab": {
          "base_uri": "https://localhost:8080/",
          "height": 489
        },
        "id": "Kb9GV_PJiphu",
        "outputId": "1d0f8cdf-896f-4c68-c21a-77096549834b"
      },
      "execution_count": null,
      "outputs": [
        {
          "output_type": "display_data",
          "data": {
            "text/plain": [
              "<Figure size 640x480 with 1 Axes>"
            ],
            "image/png": "[encoded data removed]"
          },
          "metadata": {}
        },
        {
          "output_type": "stream",
          "name": "stdout",
          "text": [
            "AUC: -0.49775837494816305\n"
          ]
        }
      ]
    }
  ]
}